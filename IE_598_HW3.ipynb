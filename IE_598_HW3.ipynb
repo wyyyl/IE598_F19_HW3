{
 "cells": [
  {
   "cell_type": "code",
   "execution_count": 1,
   "metadata": {},
   "outputs": [
    {
     "data": {
      "text/html": [
       "<div>\n",
       "<style scoped>\n",
       "    .dataframe tbody tr th:only-of-type {\n",
       "        vertical-align: middle;\n",
       "    }\n",
       "\n",
       "    .dataframe tbody tr th {\n",
       "        vertical-align: top;\n",
       "    }\n",
       "\n",
       "    .dataframe thead th {\n",
       "        text-align: right;\n",
       "    }\n",
       "</style>\n",
       "<table border=\"1\" class=\"dataframe\">\n",
       "  <thead>\n",
       "    <tr style=\"text-align: right;\">\n",
       "      <th></th>\n",
       "      <th>CUSIP</th>\n",
       "      <th>Ticker</th>\n",
       "      <th>Issue Date</th>\n",
       "      <th>Maturity</th>\n",
       "      <th>1st Call Date</th>\n",
       "      <th>Moodys</th>\n",
       "      <th>S_and_P</th>\n",
       "      <th>Fitch</th>\n",
       "      <th>Bloomberg Composite Rating</th>\n",
       "      <th>Coupon</th>\n",
       "      <th>...</th>\n",
       "      <th>percent_intra_dealer</th>\n",
       "      <th>percent_uncapped</th>\n",
       "      <th>bond_type</th>\n",
       "      <th>Client_Trade_Percentage</th>\n",
       "      <th>weekly_mean_volume</th>\n",
       "      <th>weekly_median_volume</th>\n",
       "      <th>weekly_max_volume</th>\n",
       "      <th>weekly_min_volume</th>\n",
       "      <th>weekly_mean_ntrades</th>\n",
       "      <th>weekly_median_ntrades</th>\n",
       "    </tr>\n",
       "  </thead>\n",
       "  <tbody>\n",
       "    <tr>\n",
       "      <th>0</th>\n",
       "      <td>000324AA1</td>\n",
       "      <td>FLECIN</td>\n",
       "      <td>7/1/2014</td>\n",
       "      <td>7/1/2019</td>\n",
       "      <td>10/23/2017</td>\n",
       "      <td>Nan</td>\n",
       "      <td>Nan</td>\n",
       "      <td>Nan</td>\n",
       "      <td>Nan</td>\n",
       "      <td>12.00</td>\n",
       "      <td>...</td>\n",
       "      <td>0.006645</td>\n",
       "      <td>0.292359</td>\n",
       "      <td>5</td>\n",
       "      <td>0.521595</td>\n",
       "      <td>3105926.765</td>\n",
       "      <td>2000000.0</td>\n",
       "      <td>18980000.0</td>\n",
       "      <td>60000.0</td>\n",
       "      <td>3.541176</td>\n",
       "      <td>1</td>\n",
       "    </tr>\n",
       "    <tr>\n",
       "      <th>1</th>\n",
       "      <td>00080QAB1</td>\n",
       "      <td>RBS</td>\n",
       "      <td>3/15/2004</td>\n",
       "      <td>6/4/2018</td>\n",
       "      <td>Nan</td>\n",
       "      <td>Ba1</td>\n",
       "      <td>BB+</td>\n",
       "      <td>BBB</td>\n",
       "      <td>BB+</td>\n",
       "      <td>4.65</td>\n",
       "      <td>...</td>\n",
       "      <td>0.425018</td>\n",
       "      <td>0.974071</td>\n",
       "      <td>2</td>\n",
       "      <td>0.337071</td>\n",
       "      <td>1721696.774</td>\n",
       "      <td>1160000.0</td>\n",
       "      <td>11197000.0</td>\n",
       "      <td>5000.0</td>\n",
       "      <td>18.412903</td>\n",
       "      <td>3</td>\n",
       "    </tr>\n",
       "    <tr>\n",
       "      <th>2</th>\n",
       "      <td>00081TAD0</td>\n",
       "      <td>ACCO</td>\n",
       "      <td>5/14/2010</td>\n",
       "      <td>3/15/2015</td>\n",
       "      <td>Nan</td>\n",
       "      <td>WR</td>\n",
       "      <td>NR</td>\n",
       "      <td>BB+</td>\n",
       "      <td>NR</td>\n",
       "      <td>10.63</td>\n",
       "      <td>...</td>\n",
       "      <td>0.115207</td>\n",
       "      <td>0.594470</td>\n",
       "      <td>5</td>\n",
       "      <td>0.467742</td>\n",
       "      <td>4200313.433</td>\n",
       "      <td>3520000.0</td>\n",
       "      <td>14000000.0</td>\n",
       "      <td>24000.0</td>\n",
       "      <td>6.477612</td>\n",
       "      <td>1</td>\n",
       "    </tr>\n",
       "    <tr>\n",
       "      <th>3</th>\n",
       "      <td>00081TAH1</td>\n",
       "      <td>ACCO</td>\n",
       "      <td>6/17/2013</td>\n",
       "      <td>4/30/2020</td>\n",
       "      <td>Nan</td>\n",
       "      <td>WR</td>\n",
       "      <td>NR</td>\n",
       "      <td>WD</td>\n",
       "      <td>NR</td>\n",
       "      <td>6.75</td>\n",
       "      <td>...</td>\n",
       "      <td>0.426332</td>\n",
       "      <td>0.892462</td>\n",
       "      <td>3</td>\n",
       "      <td>0.212864</td>\n",
       "      <td>6321559.783</td>\n",
       "      <td>5487500.0</td>\n",
       "      <td>18459000.0</td>\n",
       "      <td>30000.0</td>\n",
       "      <td>27.038043</td>\n",
       "      <td>1</td>\n",
       "    </tr>\n",
       "    <tr>\n",
       "      <th>4</th>\n",
       "      <td>00081TAJ7</td>\n",
       "      <td>ACCO</td>\n",
       "      <td>12/22/2016</td>\n",
       "      <td>12/15/2024</td>\n",
       "      <td>12/15/2019</td>\n",
       "      <td>B1</td>\n",
       "      <td>BB-</td>\n",
       "      <td>BB</td>\n",
       "      <td>BB-</td>\n",
       "      <td>5.25</td>\n",
       "      <td>...</td>\n",
       "      <td>0.157216</td>\n",
       "      <td>0.690722</td>\n",
       "      <td>5</td>\n",
       "      <td>0.500000</td>\n",
       "      <td>5936714.286</td>\n",
       "      <td>3305500.0</td>\n",
       "      <td>72760000.0</td>\n",
       "      <td>90000.0</td>\n",
       "      <td>9.238095</td>\n",
       "      <td>1</td>\n",
       "    </tr>\n",
       "  </tbody>\n",
       "</table>\n",
       "<p>5 rows × 37 columns</p>\n",
       "</div>"
      ],
      "text/plain": [
       "       CUSIP  Ticker  Issue Date    Maturity 1st Call Date Moodys S_and_P  \\\n",
       "0  000324AA1  FLECIN    7/1/2014    7/1/2019    10/23/2017    Nan     Nan   \n",
       "1  00080QAB1     RBS   3/15/2004    6/4/2018           Nan    Ba1     BB+   \n",
       "2  00081TAD0    ACCO   5/14/2010   3/15/2015           Nan     WR      NR   \n",
       "3  00081TAH1    ACCO   6/17/2013   4/30/2020           Nan     WR      NR   \n",
       "4  00081TAJ7    ACCO  12/22/2016  12/15/2024    12/15/2019     B1     BB-   \n",
       "\n",
       "  Fitch Bloomberg Composite Rating  Coupon  ...  percent_intra_dealer  \\\n",
       "0   Nan                        Nan   12.00  ...              0.006645   \n",
       "1   BBB                        BB+    4.65  ...              0.425018   \n",
       "2   BB+                         NR   10.63  ...              0.115207   \n",
       "3    WD                         NR    6.75  ...              0.426332   \n",
       "4    BB                        BB-    5.25  ...              0.157216   \n",
       "\n",
       "  percent_uncapped bond_type  Client_Trade_Percentage weekly_mean_volume  \\\n",
       "0         0.292359         5                 0.521595        3105926.765   \n",
       "1         0.974071         2                 0.337071        1721696.774   \n",
       "2         0.594470         5                 0.467742        4200313.433   \n",
       "3         0.892462         3                 0.212864        6321559.783   \n",
       "4         0.690722         5                 0.500000        5936714.286   \n",
       "\n",
       "   weekly_median_volume weekly_max_volume weekly_min_volume  \\\n",
       "0             2000000.0        18980000.0           60000.0   \n",
       "1             1160000.0        11197000.0            5000.0   \n",
       "2             3520000.0        14000000.0           24000.0   \n",
       "3             5487500.0        18459000.0           30000.0   \n",
       "4             3305500.0        72760000.0           90000.0   \n",
       "\n",
       "  weekly_mean_ntrades weekly_median_ntrades  \n",
       "0            3.541176                     1  \n",
       "1           18.412903                     3  \n",
       "2            6.477612                     1  \n",
       "3           27.038043                     1  \n",
       "4            9.238095                     1  \n",
       "\n",
       "[5 rows x 37 columns]"
      ]
     },
     "execution_count": 1,
     "metadata": {},
     "output_type": "execute_result"
    }
   ],
   "source": [
    "import pandas as pd\n",
    "df = pd.read_csv('HY_Universe_corporate bond.csv',header=0)\n",
    "df.head()"
   ]
  },
  {
   "cell_type": "code",
   "execution_count": 2,
   "metadata": {},
   "outputs": [
    {
     "name": "stdout",
     "output_type": "stream",
     "text": [
      "Number of Rows of Data = 2721\n",
      "Number of Columns of Data = 37\n"
     ]
    }
   ],
   "source": [
    "#1 determine the size and shape of data\n",
    "import sys\n",
    "#arrange data into list for labels and list of lists for attributes\n",
    "xList = []\n",
    "for line in df:\n",
    "    row = df[line]\n",
    "    xList.append(row)\n",
    "nrow = len(xList[1])\n",
    "ncol = len(xList)\n",
    "sys.stdout.write(\"Number of Rows of Data = \" + str(nrow) + '\\n')\n",
    "sys.stdout.write(\"Number of Columns of Data = \" + str(ncol)+ '\\n')"
   ]
  },
  {
   "cell_type": "code",
   "execution_count": 3,
   "metadata": {},
   "outputs": [
    {
     "name": "stdout",
     "output_type": "stream",
     "text": [
      "<class 'pandas.core.frame.DataFrame'>\n",
      "RangeIndex: 2721 entries, 0 to 2720\n",
      "Data columns (total 37 columns):\n",
      "CUSIP                         2721 non-null object\n",
      "Ticker                        2721 non-null object\n",
      "Issue Date                    2721 non-null object\n",
      "Maturity                      2721 non-null object\n",
      "1st Call Date                 2721 non-null object\n",
      "Moodys                        2721 non-null object\n",
      "S_and_P                       2721 non-null object\n",
      "Fitch                         2721 non-null object\n",
      "Bloomberg Composite Rating    2721 non-null object\n",
      "Coupon                        2721 non-null float64\n",
      "Issued Amount                 2721 non-null float64\n",
      "Maturity Type                 2721 non-null object\n",
      "Coupon Type                   2721 non-null object\n",
      "Maturity At Issue months      2721 non-null float64\n",
      "Industry                      2721 non-null object\n",
      "LiquidityScore                2721 non-null float64\n",
      "Months in JNK                 2721 non-null object\n",
      "Months in HYG                 2721 non-null object\n",
      "Months in Both                2721 non-null object\n",
      "IN_ETF                        2721 non-null object\n",
      "LIQ SCORE                     2721 non-null float64\n",
      "n_trades                      2721 non-null int64\n",
      "volume_trades                 2721 non-null float64\n",
      "total_median_size             2721 non-null float64\n",
      "total_mean_size               2721 non-null float64\n",
      "n_days_trade                  2721 non-null int64\n",
      "days_diff_max                 2721 non-null int64\n",
      "percent_intra_dealer          2721 non-null float64\n",
      "percent_uncapped              2721 non-null float64\n",
      "bond_type                     2721 non-null int64\n",
      "Client_Trade_Percentage       2721 non-null float64\n",
      "weekly_mean_volume            2721 non-null float64\n",
      "weekly_median_volume          2721 non-null float64\n",
      "weekly_max_volume             2721 non-null float64\n",
      "weekly_min_volume             2721 non-null float64\n",
      "weekly_mean_ntrades           2721 non-null float64\n",
      "weekly_median_ntrades         2721 non-null int64\n",
      "dtypes: float64(16), int64(5), object(16)\n",
      "memory usage: 786.6+ KB\n"
     ]
    }
   ],
   "source": [
    "#2 Determining the Nature of Attributes\n",
    "df.info()"
   ]
  },
  {
   "cell_type": "code",
   "execution_count": 4,
   "metadata": {},
   "outputs": [
    {
     "name": "stdout",
     "output_type": "stream",
     "text": [
      "Coupon Mean: 10.307872105843568 \t Standard Deviation: 63.03979493272218 \n",
      "\n",
      "[  0.     5.     6.25   7.75 999.  ] \n",
      "\n",
      "[  0.     2.95   4.63   5.25   5.75   6.25   6.83   7.5    8.13   9.38\n",
      " 999.  ] \n",
      "\n",
      "{'FIXED', 'ZERO COUPON', 'PAY-IN-KIND', 'STEP CPN', 'FLOATING', 'VARIABLE', 'DEFAULTED', 'EXCHANGED', 'FLAT TRADING', 'FUNGED'} \n",
      "\n",
      "The number of each coupon types is:  Counter({'FIXED': 2139, 'DEFAULTED': 184, 'FLOATING': 124, 'VARIABLE': 111, 'EXCHANGED': 102, 'PAY-IN-KIND': 41, 'FLAT TRADING': 7, 'ZERO COUPON': 7, 'STEP CPN': 4, 'FUNGED': 2})\n"
     ]
    }
   ],
   "source": [
    "#3 Summary Statistics for Numeric and Categorical Attributes\n",
    "#generate summary statistics for column 10 (Coupon)\n",
    "import numpy as np\n",
    "df10=df.iloc[:,9]\n",
    "mean_coupon=np.mean(df10)\n",
    "std_coupon=np.std(df10)\n",
    "print('Coupon Mean:',mean_coupon,'\\t Standard Deviation:',std_coupon,\"\\n\")\n",
    "\n",
    "#calculate 4 quantile boundaries\n",
    "percentiles=np.array([0,25,50,75,100])\n",
    "tiles=np.percentile(df10,percentiles)\n",
    "print(tiles,\"\\n\")\n",
    "\n",
    "#calculate 10 quantile boundaries\n",
    "percentiles2=np.array([0,10,20,30,40,50,60,70,80,90,100])\n",
    "tiles2=np.percentile(df10,percentiles2)\n",
    "print(tiles2,\"\\n\")\n",
    "\n",
    "#The 13th column contains categorical variables (Coupon Type)\n",
    "df12=df.iloc[:,12]\n",
    "unique = set(df12)\n",
    "print(unique,\"\\n\")\n",
    "\n",
    "#count up the number of elements having each value\n",
    "from collections import Counter\n",
    "print(\"The number of each coupon types is: \", Counter(df12))"
   ]
  },
  {
   "cell_type": "code",
   "execution_count": 5,
   "metadata": {},
   "outputs": [
    {
     "data": {
      "text/plain": [
       "<Figure size 640x480 with 1 Axes>"
      ]
     },
     "metadata": {},
     "output_type": "display_data"
    }
   ],
   "source": [
    "#4 Quantile‐Quantile Plot for columns 10 (Coupon)\n",
    "import pylab\n",
    "import scipy.stats as stats\n",
    "stats.probplot(df10, dist=\"norm\", plot=pylab)\n",
    "pylab.show()"
   ]
  },
  {
   "cell_type": "code",
   "execution_count": 6,
   "metadata": {},
   "outputs": [
    {
     "name": "stdout",
     "output_type": "stream",
     "text": [
      "       CUSIP  Ticker  Issue Date    Maturity 1st Call Date Moodys S_and_P  \\\n",
      "0  000324AA1  FLECIN    7/1/2014    7/1/2019    10/23/2017    Nan     Nan   \n",
      "1  00080QAB1     RBS   3/15/2004    6/4/2018           Nan    Ba1     BB+   \n",
      "2  00081TAD0    ACCO   5/14/2010   3/15/2015           Nan     WR      NR   \n",
      "3  00081TAH1    ACCO   6/17/2013   4/30/2020           Nan     WR      NR   \n",
      "4  00081TAJ7    ACCO  12/22/2016  12/15/2024    12/15/2019     B1     BB-   \n",
      "\n",
      "  Fitch Bloomberg Composite Rating  Coupon  ...  percent_intra_dealer  \\\n",
      "0   Nan                        Nan   12.00  ...              0.006645   \n",
      "1   BBB                        BB+    4.65  ...              0.425018   \n",
      "2   BB+                         NR   10.63  ...              0.115207   \n",
      "3    WD                         NR    6.75  ...              0.426332   \n",
      "4    BB                        BB-    5.25  ...              0.157216   \n",
      "\n",
      "  percent_uncapped bond_type  Client_Trade_Percentage weekly_mean_volume  \\\n",
      "0         0.292359         5                 0.521595        3105926.765   \n",
      "1         0.974071         2                 0.337071        1721696.774   \n",
      "2         0.594470         5                 0.467742        4200313.433   \n",
      "3         0.892462         3                 0.212864        6321559.783   \n",
      "4         0.690722         5                 0.500000        5936714.286   \n",
      "\n",
      "   weekly_median_volume weekly_max_volume weekly_min_volume  \\\n",
      "0             2000000.0        18980000.0           60000.0   \n",
      "1             1160000.0        11197000.0            5000.0   \n",
      "2             3520000.0        14000000.0           24000.0   \n",
      "3             5487500.0        18459000.0           30000.0   \n",
      "4             3305500.0        72760000.0           90000.0   \n",
      "\n",
      "  weekly_mean_ntrades weekly_median_ntrades  \n",
      "0            3.541176                     1  \n",
      "1           18.412903                     3  \n",
      "2            6.477612                     1  \n",
      "3           27.038043                     1  \n",
      "4            9.238095                     1  \n",
      "\n",
      "[5 rows x 37 columns]\n",
      "          CUSIP  Ticker Issue Date    Maturity 1st Call Date Moodys S_and_P  \\\n",
      "2716  629377CC4     NRG  4/18/2017   1/15/2027     7/15/2021     B1     BB-   \n",
      "2717  62940QAA3  NSGHLD  3/14/2007  12/15/2025           Nan    Ba1     BB+   \n",
      "2718  62941FAH1    VMED  7/25/2006   8/15/2016           Nan     WR      NR   \n",
      "2719  62943WAA7    NYLD   8/5/2014   8/15/2024           Nan    Ba2      BB   \n",
      "2720  62943WAB5    NYLD  7/21/2015   8/15/2024     8/15/2019    Ba2      BB   \n",
      "\n",
      "     Fitch Bloomberg Composite Rating  Coupon  ...  percent_intra_dealer  \\\n",
      "2716   Nan                         B+    6.63  ...              0.376000   \n",
      "2717   Nan                        BB+    7.75  ...              0.024540   \n",
      "2718   BB+                         NR    9.13  ...              0.193798   \n",
      "2719   Nan                         BB    5.38  ...              0.063197   \n",
      "2720   Nan                         BB    5.38  ...              0.241427   \n",
      "\n",
      "     percent_uncapped bond_type  Client_Trade_Percentage weekly_mean_volume  \\\n",
      "2716         0.708571         1                 0.243429       1.673926e+07   \n",
      "2717         0.699387         5                 0.460123       1.787675e+06   \n",
      "2718         0.527132         5                 0.449612       6.440966e+06   \n",
      "2719         0.605948         3                 0.434944       3.923217e+06   \n",
      "2720         0.766118         3                 0.387517       6.107044e+06   \n",
      "\n",
      "      weekly_median_volume weekly_max_volume weekly_min_volume  \\\n",
      "2716           13167000.00        65036000.0        1475000.00   \n",
      "2717             937286.96        12500000.0          93728.69   \n",
      "2718            5468000.00        18280000.0        1000000.00   \n",
      "2719            3022500.00        16100000.0          25000.00   \n",
      "2720            4768000.00        28475000.0         250000.00   \n",
      "\n",
      "     weekly_mean_ntrades weekly_median_ntrades  \n",
      "2716           38.043478                     4  \n",
      "2717            3.075472                     1  \n",
      "2718            8.896552                     1  \n",
      "2719            5.847826                     1  \n",
      "2720           12.902655                     1  \n",
      "\n",
      "[5 rows x 37 columns]\n",
      "            Coupon  Issued Amount  Maturity At Issue months  LiquidityScore  \\\n",
      "count  2721.000000   2.721000e+03               2721.000000     2721.000000   \n",
      "mean     10.307872   8.299295e+08                113.968997       18.218230   \n",
      "std      63.051382   5.802790e+08                101.893176        7.872071   \n",
      "min       0.000000   3.700000e+08                 11.930000        4.388758   \n",
      "25%       5.000000   5.000000e+08                 65.170000       12.738630   \n",
      "50%       6.250000   6.500000e+08                 97.370000       16.538471   \n",
      "75%       7.750000   1.000000e+09                121.770000       22.120108   \n",
      "max     999.000000   7.364026e+09               1217.570000       54.673908   \n",
      "\n",
      "         LIQ SCORE      n_trades  volume_trades  total_median_size  \\\n",
      "count  2721.000000   2721.000000   2.721000e+03       2.721000e+03   \n",
      "mean      0.182182   2700.696435   7.222372e+08       5.361476e+05   \n",
      "std       0.078721   5572.262205   1.027825e+09       4.193546e+05   \n",
      "min       0.043888      1.000000   7.000000e+03       4.000000e+03   \n",
      "25%       0.127386    116.000000   6.189000e+07       7.500000e+04   \n",
      "50%       0.165385    674.000000   3.480000e+08       5.000000e+05   \n",
      "75%       0.221201   2467.000000   9.328420e+08       1.000000e+06   \n",
      "max       0.546739  57935.000000   8.979960e+09       3.400000e+06   \n",
      "\n",
      "       total_mean_size  n_days_trade  ...  percent_intra_dealer  \\\n",
      "count     2.721000e+03   2721.000000  ...           2721.000000   \n",
      "mean      5.255853e+05    316.581771  ...              0.244306   \n",
      "std       2.670677e+05    347.802629  ...              0.152165   \n",
      "min       5.000000e+03      1.000000  ...              0.000000   \n",
      "25%       3.010473e+05     45.000000  ...              0.124731   \n",
      "50%       5.769231e+05    184.000000  ...              0.250000   \n",
      "75%       7.289650e+05    483.000000  ...              0.356808   \n",
      "max       3.400000e+06   1667.000000  ...              1.000000   \n",
      "\n",
      "       percent_uncapped    bond_type  Client_Trade_Percentage  \\\n",
      "count       2721.000000  2721.000000              2721.000000   \n",
      "mean           0.676536     3.496141                 0.379648   \n",
      "std            0.219661     1.712004                 0.144545   \n",
      "min            0.000000     1.000000                 0.000000   \n",
      "25%            0.534224     1.000000                 0.290826   \n",
      "50%            0.681992     5.000000                 0.376385   \n",
      "75%            0.859256     5.000000                 0.448718   \n",
      "max            1.000000     5.000000                 1.000000   \n",
      "\n",
      "       weekly_mean_volume  weekly_median_volume  weekly_max_volume  \\\n",
      "count        2.721000e+03          2.721000e+03       2.721000e+03   \n",
      "mean         7.588325e+06          5.672609e+06       4.915523e+07   \n",
      "std          8.979311e+06          7.340321e+06       6.703860e+07   \n",
      "min          7.000000e+03          7.000000e+03       7.000000e+03   \n",
      "25%          2.295273e+06          1.750000e+06       9.020000e+06   \n",
      "50%          4.926339e+06          3.527000e+06       2.410000e+07   \n",
      "75%          9.649299e+06          7.011000e+06       6.370500e+07   \n",
      "max          1.179500e+08          1.179500e+08       8.728140e+08   \n",
      "\n",
      "       weekly_min_volume  weekly_mean_ntrades  weekly_median_ntrades  \n",
      "count       2.721000e+03          2721.000000            2721.000000  \n",
      "mean        6.690499e+05            21.598988               2.471885  \n",
      "std         3.094537e+06            32.901129               5.581749  \n",
      "min         1.400000e+01             1.000000               1.000000  \n",
      "25%         2.100000e+04             4.046154               1.000000  \n",
      "50%         1.060000e+05            10.821429               1.000000  \n",
      "75%         4.300000e+05            24.526316               2.000000  \n",
      "max         1.002500e+08           513.769231             160.000000  \n",
      "\n",
      "[8 rows x 21 columns]\n"
     ]
    }
   ],
   "source": [
    "#5 Using Python Pandas to Read and Summarize Data\n",
    "from pandas import DataFrame\n",
    "print(df.head())\n",
    "print(df.tail())\n",
    "#print summary of data frame\n",
    "summary = df.describe()\n",
    "print(summary)"
   ]
  },
  {
   "cell_type": "code",
   "execution_count": 7,
   "metadata": {},
   "outputs": [
    {
     "data": {
      "image/png": "[encoded data removed]",
      "text/plain": [
       "<Figure size 432x288 with 1 Axes>"
      ]
     },
     "metadata": {
      "needs_background": "light"
     },
     "output_type": "display_data"
    }
   ],
   "source": [
    "#6 Parallel Coordinates Graph for Real Attribute Visualization\n",
    "import matplotlib.pyplot as plt\n",
    "dataCol = df.iloc[:,31:35]\n",
    "dataCol.plot()\n",
    "plt.xlabel(\"Attribute Index\")\n",
    "plt.ylabel((\"Attribute Values\"))\n",
    "plt.show()"
   ]
  },
  {
   "cell_type": "code",
   "execution_count": 8,
   "metadata": {},
   "outputs": [
    {
     "data": {
      "text/plain": [
       "<matplotlib.collections.PathCollection at 0x20c8bba1a58>"
      ]
     },
     "execution_count": 8,
     "metadata": {},
     "output_type": "execute_result"
    },
    {
     "data": {
      "image/png": "[encoded data removed]",
      "text/plain": [
       "<Figure size 432x288 with 1 Axes>"
      ]
     },
     "metadata": {
      "needs_background": "light"
     },
     "output_type": "display_data"
    }
   ],
   "source": [
    "#7 Cross Plotting Pairs of Attributes\n",
    "dataCol32 = df.iloc[:,31]\n",
    "dataCol33 = df.iloc[:,32]\n",
    "plt.xlabel('weekly_mean_volume')\n",
    "plt.ylabel('weekly_median_volume')\n",
    "plt.scatter(dataCol32, dataCol33)"
   ]
  },
  {
   "cell_type": "code",
   "execution_count": 9,
   "metadata": {},
   "outputs": [
    {
     "name": "stdout",
     "output_type": "stream",
     "text": [
      "[[1.         0.99995678 0.9830517  ... 0.97342815 0.99449615 0.9975733 ]\n",
      " [0.99995678 1.         0.9819891  ... 0.97198036 0.99385233 0.99717779]\n",
      " [0.9830517  0.9819891  1.         ... 0.99798271 0.99684196 0.99334134]\n",
      " ...\n",
      " [0.97342815 0.97198036 0.99798271 ... 1.         0.9915119  0.98675318]\n",
      " [0.99449615 0.99385233 0.99684196 ... 0.9915119  1.         0.99930321]\n",
      " [0.9975733  0.99717779 0.99334134 ... 0.98675318 0.99930321 1.        ]]\n"
     ]
    }
   ],
   "source": [
    "#8 Correlation between column 32 to column 37\n",
    "corr_mat=np.corrcoef(df.iloc[:,31:36],df.iloc[:,31:36])\n",
    "print(corr_mat)"
   ]
  },
  {
   "cell_type": "code",
   "execution_count": 10,
   "metadata": {},
   "outputs": [
    {
     "name": "stdout",
     "output_type": "stream",
     "text": [
      "The correlation between weekly_mean_volume and weekly_median_volume is:  0.9999567790324645\n"
     ]
    }
   ],
   "source": [
    "#9 Pearson’s Correlation Calculation for column 32 versus 33\n",
    "print(\"The correlation between weekly_mean_volume and weekly_median_volume is: \", corr_mat[0,1])"
   ]
  },
  {
   "cell_type": "code",
   "execution_count": 11,
   "metadata": {},
   "outputs": [
    {
     "data": {
      "image/png": "[encoded data removed]",
      "text/plain": [
       "<Figure size 432x288 with 1 Axes>"
      ]
     },
     "metadata": {
      "needs_background": "light"
     },
     "output_type": "display_data"
    }
   ],
   "source": [
    "#10 HeatMap\n",
    "corMat = DataFrame(df.corr())\n",
    "plt.pcolor(corMat)\n",
    "plt.show()"
   ]
  },
  {
   "cell_type": "code",
   "execution_count": 12,
   "metadata": {
    "scrolled": true
   },
   "outputs": [
    {
     "data": {
      "image/png": "[encoded data removed]",
      "text/plain": [
       "<Figure size 432x288 with 1 Axes>"
      ]
     },
     "metadata": {},
     "output_type": "display_data"
    }
   ],
   "source": [
    "# Histogram\n",
    "import seaborn as sns\n",
    "sns.set()\n",
    "_ = plt.hist(df.iloc[0:100,9],bins=10)\n",
    "_ = plt.xlabel('First Hundred Coupon')\n",
    "_ = plt.ylabel('count')\n",
    "plt.show()"
   ]
  },
  {
   "cell_type": "code",
   "execution_count": 18,
   "metadata": {},
   "outputs": [
    {
     "data": {
      "image/png": "[encoded data removed]",
      "text/plain": [
       "<Figure size 432x288 with 1 Axes>"
      ]
     },
     "metadata": {},
     "output_type": "display_data"
    }
   ],
   "source": [
    "#Bee Swarm Plot\n",
    "_=sns.swarmplot(x='Coupon Type',y='Coupon', data=df)\n",
    "_=plt.xlabel('Coupon Type')\n",
    "_=plt.ylabel('Coupon')\n",
    "plt.show()"
   ]
  },
  {
   "cell_type": "code",
   "execution_count": 16,
   "metadata": {},
   "outputs": [
    {
     "data": {
      "image/png": "[encoded data removed]",
      "text/plain": [
       "<Figure size 432x288 with 1 Axes>"
      ]
     },
     "metadata": {},
     "output_type": "display_data"
    }
   ],
   "source": [
    "# ECDF\n",
    "def ecdf(data):\n",
    "    \"\"\"Compute ECDF for a one-dimensional array of measurements.\"\"\"\n",
    "    n = len(data)\n",
    "    x = np.sort(data)\n",
    "    y = np.arange(1, n+1) / n\n",
    "    return x, y\n",
    "x_vers, y_vers = ecdf(df.iloc[:,9])\n",
    "_ = plt.plot(x_vers,y_vers,marker='.',linestyle='none')\n",
    "_ = plt.xlabel('Coupon')\n",
    "_ = plt.ylabel('ECDF')\n",
    "plt.show()"
   ]
  },
  {
   "cell_type": "code",
   "execution_count": 20,
   "metadata": {},
   "outputs": [
    {
     "data": {
      "image/png": "[encoded data removed]",
      "text/plain": [
       "<Figure size 432x288 with 1 Axes>"
      ]
     },
     "metadata": {},
     "output_type": "display_data"
    }
   ],
   "source": [
    "# Boxplot\n",
    "_ = sns.boxplot(x='Coupon Type', y='weekly_mean_volume', data=df)\n",
    "_ = plt.xlabel('Coupon Type')\n",
    "_ = plt.ylabel('weekly_mean_volume')\n",
    "plt.show()"
   ]
  },
  {
   "cell_type": "code",
   "execution_count": null,
   "metadata": {},
   "outputs": [],
   "source": [
    "print(\"My name is {yulong wang}\")\n",
    "print(\"My NetID is: {yulongw2}\")\n",
    "print(\"I hereby certify that I have read the University policy on Academic Integrity and that I am not in violation.\")"
   ]
  }
 ],
 "metadata": {
  "kernelspec": {
   "display_name": "Python 3",
   "language": "python",
   "name": "python3"
  },
  "language_info": {
   "codemirror_mode": {
    "name": "ipython",
    "version": 3
   },
   "file_extension": ".py",
   "mimetype": "text/x-python",
   "name": "python",
   "nbconvert_exporter": "python",
   "pygments_lexer": "ipython3",
   "version": "3.7.3"
  }
 },
 "nbformat": 4,
 "nbformat_minor": 2
}
